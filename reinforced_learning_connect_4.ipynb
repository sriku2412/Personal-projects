{
 "cells": [
  {
   "cell_type": "code",
   "execution_count": 45,
   "metadata": {},
   "outputs": [],
   "source": [
    "import numpy as np\n",
    "\n",
    "row = 6\n",
    "col = 7\n",
    "\n",
    "# Define the matrix as a global variable\n",
    "matrix = np.zeros((row, col))\n",
    "\n",
    "def create_board():\n",
    "    global matrix  \n",
    "    matrix = np.zeros((row, col))\n",
    "    return matrix\n",
    "\n",
    "def drop_piece(col, piece):\n",
    "    global matrix  \n",
    "    for i in range(row-1, -1, -1):\n",
    "        if matrix[i][col] == 0:\n",
    "            matrix[i][col] = piece\n",
    "            break\n",
    "\n",
    "def game_start():\n",
    "    global matrix  \n",
    "    matrix = create_board()\n",
    "    return matrix\n",
    "\n",
    "def load_move(move):\n",
    "    global matrix\n",
    "    move = move_convert(move)\n",
    "    for player, move in enumerate(move):\n",
    "        if player == 1:\n",
    "            matrix = drop_piece(move[0], 1)\n",
    "        else:\n",
    "            matrix = drop_piece(move[0], 2)    \n",
    "\n",
    "\n",
    "def move_convert (move):\n",
    "    if move.count(0)%2 == 0:\n",
    "        return move.reshape(2,)\n",
    "    else:\n",
    "        move.append(0)\n",
    "        return move.reshape(2,)\n",
    "\n"
   ]
  },
  {
   "cell_type": "code",
   "execution_count": 49,
   "metadata": {},
   "outputs": [
    {
     "name": "stdout",
     "output_type": "stream",
     "text": [
      "[[0. 0. 0. 0. 0. 0. 0.]\n",
      " [0. 0. 0. 0. 0. 0. 0.]\n",
      " [0. 0. 0. 0. 0. 0. 0.]\n",
      " [0. 0. 0. 0. 0. 0. 0.]\n",
      " [0. 0. 0. 0. 0. 0. 0.]\n",
      " [0. 0. 0. 0. 0. 0. 0.]]\n"
     ]
    }
   ],
   "source": [
    "import numpy as np\n",
    "\n",
    "row = 6\n",
    "col = 7\n",
    "\n",
    "\n",
    "matrix = np.zeros((row, col))\n",
    "\n",
    "def create_board():\n",
    "    global matrix  \n",
    "    matrix = np.zeros((row, col))\n",
    "    return matrix\n",
    "\n",
    "def drop_piece(col, piece):\n",
    "    global matrix  \n",
    "    for i in range(row-1, -1, -1):\n",
    "        if matrix[i][col-1] == 0:  \n",
    "            matrix[i][col-1] = piece\n",
    "            return True\n",
    "    return False  \n",
    "\n",
    "def game_start():\n",
    "    global matrix  \n",
    "    matrix = create_board()\n",
    "    return matrix\n",
    "\n",
    "def load_moves(moves):\n",
    "    global matrix\n",
    "    player = 1  \n",
    "    for move in moves:\n",
    "        player = 2 if player == 1 else 1  \n",
    "\n",
    "game_start()  \n",
    "moves = [1, 2, 3, 4, 3, 3, 3, 3, 4]  \n",
    "load_moves(moves)\n",
    "print(matrix)\n"
   ]
  },
  {
   "cell_type": "code",
   "execution_count": 54,
   "metadata": {},
   "outputs": [],
   "source": [
    "import numpy as np\n",
    "\n",
    "row = 6\n",
    "col = 7\n",
    "\n",
    "matrix = np.zeros((row, col))\n",
    "\n",
    "def create_board():\n",
    "    global matrix  \n",
    "    matrix = np.zeros((row, col))\n",
    "    return matrix\n",
    "\n",
    "def drop_piece(col, piece):\n",
    "    global matrix  \n",
    "    for i in range(row-1, -1, -1):\n",
    "        if matrix[i][col-1] == 0:  \n",
    "            matrix[i][col-1] = piece\n",
    "            return True\n",
    "    return False  \n",
    "\n",
    "def game_start():\n",
    "    global matrix  \n",
    "    matrix = create_board()\n",
    "    return matrix\n",
    "\n",
    "def load_moves(moves):\n",
    "    global matrix\n",
    "    player = 1  \n",
    "    for move in moves:\n",
    "        if move < 1 or move > col:  \n",
    "            print(f\"Move {move} is out of bounds.\")\n",
    "            continue\n",
    "        if not drop_piece(move, player):\n",
    "            print(f\"Column {move} is full.\")\n",
    "            continue\n",
    "        player = 2 if player == 1 else 1  \n",
    "        \n",
    "\n",
    "game_start()  \n",
    "moves = [1, 2, 3, 4, 3, 3, 3, 3, 4]  \n",
    "load_moves(moves)"
   ]
  },
  {
   "cell_type": "code",
   "execution_count": 55,
   "metadata": {},
   "outputs": [
    {
     "data": {
      "text/plain": [
       "array([[0., 0., 0., 0., 0., 0., 0.],\n",
       "       [0., 0., 2., 0., 0., 0., 0.],\n",
       "       [0., 0., 1., 0., 0., 0., 0.],\n",
       "       [0., 0., 2., 0., 0., 0., 0.],\n",
       "       [0., 0., 1., 1., 0., 0., 0.],\n",
       "       [1., 2., 1., 2., 0., 0., 0.]])"
      ]
     },
     "execution_count": 55,
     "metadata": {},
     "output_type": "execute_result"
    }
   ],
   "source": [
    "matrix"
   ]
  }
 ],
 "metadata": {
  "kernelspec": {
   "display_name": "Python 3",
   "language": "python",
   "name": "python3"
  },
  "language_info": {
   "codemirror_mode": {
    "name": "ipython",
    "version": 3
   },
   "file_extension": ".py",
   "mimetype": "text/x-python",
   "name": "python",
   "nbconvert_exporter": "python",
   "pygments_lexer": "ipython3",
   "version": "3.11.8"
  }
 },
 "nbformat": 4,
 "nbformat_minor": 2
}
