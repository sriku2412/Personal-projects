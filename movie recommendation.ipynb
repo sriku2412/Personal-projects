{
 "cells": [
  {
   "cell_type": "markdown",
   "metadata": {},
   "source": [
    "# movie recommendation system basic concept"
   ]
  },
  {
   "cell_type": "code",
   "execution_count": 7,
   "metadata": {},
   "outputs": [],
   "source": [
    "import pandas as pd\n",
    "import warnings\n",
    "\n",
    "warnings.filterwarnings('ignore')\n",
    "\n",
    "# dataset of movies\n",
    "movies = pd.DataFrame({\n",
    "    'MovieID': [1, 2, 3, 4, 5],\n",
    "    'Title': ['Comedy Hit', 'Thriller Mystery', 'Romantic Comedy', 'Sci-Fi Adventure', 'Murder Mystery'],\n",
    "    'Comedy': [1, 0, 1, 0, 0],\n",
    "    'Thriller': [0, 1, 0, 0, 0],\n",
    "    'Romance': [0, 0, 1, 0, 0],\n",
    "    'SciFi': [0, 0, 0, 1, 0],\n",
    "    'Murder': [0, 0, 0, 0, 1]\n",
    "})\n",
    "\n",
    "# User's viewing history (simulated)\n",
    "user_history = pd.DataFrame({\n",
    "    'UserID': [1, 1, 1],\n",
    "    'MovieID': [1, 3, 4],\n",
    "    'Rating': [5, 4, 2]  # rating is from 1 to 5\n",
    "})"
   ]
  },
  {
   "cell_type": "code",
   "execution_count": 8,
   "metadata": {},
   "outputs": [
    {
     "data": {
      "text/plain": [
       "Comedy      3.000000\n",
       "Thriller    0.000000\n",
       "Romance     1.333333\n",
       "SciFi       0.666667\n",
       "Murder      0.000000\n",
       "dtype: float64"
      ]
     },
     "execution_count": 8,
     "metadata": {},
     "output_type": "execute_result"
    }
   ],
   "source": [
    "# Merge user history with movie genres\n",
    "user_ratings_with_genres = user_history.merge(movies, on='MovieID')\n",
    "\n",
    "# Weight genres by user ratings\n",
    "for genre in ['Comedy', 'Thriller', 'Romance', 'SciFi', 'Murder']:\n",
    "    user_ratings_with_genres[genre] = user_ratings_with_genres[genre] * user_ratings_with_genres['Rating']\n",
    "\n",
    "# Create a user profile by averaging genre ratings\n",
    "user_profile = user_ratings_with_genres[['Comedy', 'Thriller', 'Romance', 'SciFi', 'Murder']].mean()\n",
    "user_profile"
   ]
  },
  {
   "cell_type": "code",
   "execution_count": 9,
   "metadata": {},
   "outputs": [
    {
     "name": "stdout",
     "output_type": "stream",
     "text": [
      "Recommended movies for you:\n",
      "              Title  Similarity\n",
      "1  Thriller Mystery         0.0\n",
      "4    Murder Mystery         0.0\n"
     ]
    }
   ],
   "source": [
    "from sklearn.metrics.pairwise import cosine_similarity\n",
    "\n",
    "# Filter out movies the user has already watched\n",
    "unwatched_movies = movies[~movies['MovieID'].isin(user_history['MovieID'])]\n",
    "\n",
    "# Compute similarity scores between user profile and unwatched movies\n",
    "similarity_scores = cosine_similarity([user_profile], unwatched_movies[['Comedy', 'Thriller', 'Romance', 'SciFi', 'Murder']])\n",
    "\n",
    "# Add similarity scores to unwatched movies dataframe\n",
    "unwatched_movies['Similarity'] = similarity_scores.T\n",
    "\n",
    "# Recommend movies with the highest similarity scores\n",
    "recommendations = unwatched_movies.sort_values(by='Similarity', ascending=False)\n",
    "print(\"Recommended movies for you:\")\n",
    "print(recommendations[['Title', 'Similarity']])"
   ]
  },
  {
   "cell_type": "code",
   "execution_count": null,
   "metadata": {},
   "outputs": [],
   "source": []
  },
  {
   "cell_type": "code",
   "execution_count": null,
   "metadata": {},
   "outputs": [],
   "source": []
  }
 ],
 "metadata": {
  "kernelspec": {
   "display_name": "Python 3",
   "language": "python",
   "name": "python3"
  },
  "language_info": {
   "codemirror_mode": {
    "name": "ipython",
    "version": 3
   },
   "file_extension": ".py",
   "mimetype": "text/x-python",
   "name": "python",
   "nbconvert_exporter": "python",
   "pygments_lexer": "ipython3",
   "version": "3.11.8"
  }
 },
 "nbformat": 4,
 "nbformat_minor": 2
}
