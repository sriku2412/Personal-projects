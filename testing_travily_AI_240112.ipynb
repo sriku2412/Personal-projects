{
 "cells": [
  {
   "cell_type": "code",
   "execution_count": 9,
   "metadata": {},
   "outputs": [
    {
     "name": "stdout",
     "output_type": "stream",
     "text": [
      "Requirement already satisfied: tavily-python in c:\\users\\srika\\appdata\\local\\programs\\python\\python310\\lib\\site-packages (0.2.8)\n",
      "Requirement already satisfied: requests in c:\\users\\srika\\appdata\\local\\programs\\python\\python310\\lib\\site-packages (from tavily-python) (2.31.0)\n",
      "Requirement already satisfied: tiktoken==0.5.1 in c:\\users\\srika\\appdata\\local\\programs\\python\\python310\\lib\\site-packages (from tavily-python) (0.5.1)\n",
      "Requirement already satisfied: regex>=2022.1.18 in c:\\users\\srika\\appdata\\local\\programs\\python\\python310\\lib\\site-packages (from tiktoken==0.5.1->tavily-python) (2023.12.25)\n",
      "Requirement already satisfied: charset-normalizer<4,>=2 in c:\\users\\srika\\appdata\\local\\programs\\python\\python310\\lib\\site-packages (from requests->tavily-python) (3.3.2)\n",
      "Requirement already satisfied: idna<4,>=2.5 in c:\\users\\srika\\appdata\\local\\programs\\python\\python310\\lib\\site-packages (from requests->tavily-python) (3.6)\n",
      "Requirement already satisfied: urllib3<3,>=1.21.1 in c:\\users\\srika\\appdata\\local\\programs\\python\\python310\\lib\\site-packages (from requests->tavily-python) (2.0.7)\n",
      "Requirement already satisfied: certifi>=2017.4.17 in c:\\users\\srika\\appdata\\local\\programs\\python\\python310\\lib\\site-packages (from requests->tavily-python) (2023.11.17)\n"
     ]
    }
   ],
   "source": [
    "!pip install tavily-python"
   ]
  },
  {
   "cell_type": "code",
   "execution_count": 10,
   "metadata": {},
   "outputs": [],
   "source": [
    "from tavily import Client"
   ]
  },
  {
   "cell_type": "code",
   "execution_count": 11,
   "metadata": {},
   "outputs": [
    {
     "name": "stderr",
     "output_type": "stream",
     "text": [
      "C:\\Users\\srika\\AppData\\Local\\Temp\\ipykernel_6960\\4162608784.py:1: DeprecationWarning: Client is deprecated, please use TavilyClient instead\n",
      "  travily = Client(api_key=\"API_KEY\")\n"
     ]
    }
   ],
   "source": [
    "travily = Client(api_key=\"API_KEY\")"
   ]
  },
  {
   "cell_type": "code",
   "execution_count": 12,
   "metadata": {},
   "outputs": [],
   "source": [
    "results = travily.search(query=\"When did you turn 24?\",search_depth=\"advanced\")\n"
   ]
  },
  {
   "cell_type": "code",
   "execution_count": 14,
   "metadata": {},
   "outputs": [
    {
     "data": {
      "text/plain": [
       "{'query': 'When did you turn 24?',\n",
       " 'follow_up_questions': ['When did I turn 23?',\n",
       "  'What are some fun ways to celebrate a 24th birthday?',\n",
       "  'What are the typical milestones for a 24-year-old?'],\n",
       " 'answer': None,\n",
       " 'images': None,\n",
       " 'results': [{'content': \"That's it! What is my birth year in 2023 if I'm 52?  How do I calculate the year of birth from the age and date?  2022, she was 96 years old. Her birthday happened on the 21st April, thus we were after that date.  FAQ How do I calculate my birth year from my age and the current date?Your birth year is either 1970 or 1971. You can find this result by following two simple steps: Subtract the current year (2023) and your age: 2023 - 52 = 71. Improve the result: If the current date is before your birthday, subtract 1 from the result: 71 - 1 =70.\",\n",
       "   'url': 'https://www.omnicalculator.com/everyday-life/birth-year',\n",
       "   'score': 0.80586,\n",
       "   'title': 'Birth Year Calculator',\n",
       "   'raw_content': None},\n",
       "  {'content': 'will I be 59.5 or 59-1/2 years old?, When will I be 18?).  Optional: If you would like to know on what date you will turn a certain age, enter that age in the field provided.  This is the number of days until your next birthday.  Age Calculator: How Old Am I? Or ... How Old Was I, How Old Will I Be, or When Will I Be?Calculate age from date of birth to a past, current, or future date in years, months, weeks, days, hours, minutes, and seconds, or turn given age (59.5).',\n",
       "   'url': 'https://www.free-online-calculator-use.com/age-calculator.html',\n",
       "   'score': 0.79909,\n",
       "   'title': 'Age Calculator: How Old Am I, Was I, or Will I Be? (When Will I Be __?)',\n",
       "   'raw_content': None},\n",
       "  {'content': 'Election 2024  a range of topics including the 2024 election.  country as advantages for the former president in 2024.  top 10 Democratic presidential candidates for 2024.By Tyler Pager. January 6, 2024 at 9:34 a.m. EST. President Biden and former president Barack Obama at the White House in September 2022. (Demetrius Freeman/The Washington Post) 8 min. Former ...',\n",
       "   'url': 'https://www.washingtonpost.com/politics/2024/01/06/obama-biden-meeting-campaign-2024/',\n",
       "   'score': 0.7943,\n",
       "   'title': 'Obama, worried about 2024, urges Biden circle to bolster campaign - The ...',\n",
       "   'raw_content': None},\n",
       "  {'content': '3 Social Security Changes In 2024 To Know  3. Some 2024 Social Security qualifiers  1. Social Security checks are getting bigger in 2024  There are two checkpoints to keep in mind for 2024: the earnings test and full retirement age.The 2024 COLA for Supplemental Security Income (SSI) recipients began December 29, 2023, as January 1 is a holiday, the SSA said . In terms of when exactly you receive your payment, it continues...',\n",
       "   'url': 'https://www.kiplinger.com/retirement/social-security/social-security-changes-in-new-year',\n",
       "   'score': 0.79391,\n",
       "   'title': '3 Social Security Changes In 2024 To Know | Kiplinger',\n",
       "   'raw_content': None},\n",
       "  {'content': 'organizations for calendar year 2023.  Last quarterly payment for 2023 is due on Jan. 16, 2024  More In News IR-2023-235, Dec. 11, 2023  The Get ready page on IRS.gov outlines steps taxpayers can take now to make filing easier in 2024.WASHINGTON — The Internal Revenue Service today urged taxpayers to take important actions now to help them file their 2023 federal income tax return next year. This is the second in a series of reminders to help taxpayers get ready for the upcoming filing season.',\n",
       "   'url': 'https://www.irs.gov/newsroom/get-ready-to-file-in-2024-whats-new-and-what-to-consider',\n",
       "   'score': 0.783,\n",
       "   'title': \"Get ready to file in 2024: What's new and what to consider\",\n",
       "   'raw_content': None}],\n",
       " 'response_time': 4.6}"
      ]
     },
     "execution_count": 14,
     "metadata": {},
     "output_type": "execute_result"
    }
   ],
   "source": [
    "results"
   ]
  },
  {
   "cell_type": "code",
   "execution_count": 15,
   "metadata": {},
   "outputs": [
    {
     "name": "stdout",
     "output_type": "stream",
     "text": [
      "{'query': 'best textbook for learning LLM ?', 'follow_up_questions': ['What are the top law schools for LLM programs in 2024?', 'What are the recommended study materials for LLM courses in 2024?', 'Are there any online LLM programs available in 2024?'], 'answer': None, 'images': None, 'results': [{'content': \"books to get you started on your LLM journey.  find your perfect LLM program Search our Database of over 2500 Courses 6 books to read before starting an LLM course  you with a range of perspectives on what law is about and boost your confidence so that you can ace your LLM course.  and answer common questions on what studying law is all about. A light-hearted read for those about to start an LLMIf you're thinking about applying for an LLM, or if you've just been accepted on an LLM program (congratulations!) and want to find the best books to help you get a head start on your LLM journey, then this article is for you, as it will hep you prepare yourself for your LLM degree.\", 'url': 'https://www.llmstudy.com/blog/6-llm-books/', 'score': 0.84196, 'title': '6 LLM books | Blog | LLMStudy.com', 'raw_content': None}, {'content': 'or an experienced practitioner, this book will undoubtedly elevate your understanding and practical skills in LLM  and Other LLMs (Addison-Wesley Data & Analytics Series)  Models stands as a comprehensive guide to understanding and using LLMs, bridging the gap between theoretical concepts  Ozdemir brings together all you need to get started, even if you have no direct experience with LLMs: step-by-stepThis item: Quick Start Guide to Large Language Models: Strategies and Best Practices for Using ChatGPT and Other LLMs (Addison-Wesley Data & Analytics Series) $3499. +. Developing Apps with GPT-4 and ChatGPT: Build Intelligent Chatbots, Content Generators, and More. $4599. +. Natural Language Processing with Transformers, Revised Edition. $4599 ...', 'url': 'https://www.amazon.com/Quick-Start-Guide-Language-Models/dp/0138199191', 'score': 0.81788, 'title': 'Quick Start Guide to Large Language Models: Strategies and Best ...', 'raw_content': None}, {'content': \"guide to resources and courses on the foundational theory, implementation, and recent developments in the world of LLMs  expands beyond the purview of LLMs, it is an invaluable resource for those wishing to dive into the theoretical aspects  to training and optimizing LLMs.  potential harms, the course also investigates key topics essential to LLMs' efficient implementation, such asWithout question, Large Language Models (LLMs) are revolutionizing the tech landscape. The launch of ChatGPT in December 2022 and GPT-4 in March 2023 catalyzed an industry-wide shift, leading to a scramble among tech behemoths to develop their own LLMs.\", 'url': 'https://deepgram.com/learn/foundational-courses-to-learn-large-language-models', 'score': 0.81747, 'title': 'The 6 Foundational Courses To Learn Large Language Models', 'raw_content': None}, {'content': 'current LLMs and design more optimized ones.  8 Top Open-Source LLMs for 2024 and Their Uses  will continue to provide information about the latest news in the LLM space, providing courses, articles, and tutorials  Choosing the Right Open-Source LLM for Your NeedsBenefits of Using Open-Source LLMs There are multiple short-term and long-term benefits to choosing open-source LLMs instead of proprietary LLMs. Below, you can find a list of the most compelling reasons: Enhanced data security and privacy', 'url': 'https://www.datacamp.com/blog/top-open-source-llms', 'score': 0.81267, 'title': '8 Top Open-Source LLMs for 2024 and Their Uses | DataCamp', 'raw_content': None}, {'content': \"custom LLMs to the cloud. It offers an in-depth look at the various concepts, techniques, and tools used in the field  and Other LLMs is a practical guide to the use of LLMs in NLP. It provides an overview of the key concepts and  ChatGPT and Other LLMs and 60K+ other titles, with a free 10-day trial of O'Reilly.  key concepts and techniques used in LLMs and explains how these models work and how they can be used for various NLPThe advancement of Large Language Models (LLMs) has revolutionized the field of Natural Language Processing in recent years. Models like BERT, T5, and ChatGPT have demonstrated unprecedented performance on a … - Selection from Quick Start Guide to Large Language Models: Strategies and Best Practices for Using ChatGPT and Other LLMs [Book]\", 'url': 'https://www.oreilly.com/library/view/quick-start-guide/9780138199425/', 'score': 0.78906, 'title': 'Quick Start Guide to Large Language Models: Strategies and Best ...', 'raw_content': None}], 'response_time': 6.62}\n"
     ]
    }
   ],
   "source": [
    "print(travily.search(query=\"best textbook for learning LLM ?\",search_depth=\"advanced\"))"
   ]
  }
 ],
 "metadata": {
  "kernelspec": {
   "display_name": "Python 3",
   "language": "python",
   "name": "python3"
  },
  "language_info": {
   "codemirror_mode": {
    "name": "ipython",
    "version": 3
   },
   "file_extension": ".py",
   "mimetype": "text/x-python",
   "name": "python",
   "nbconvert_exporter": "python",
   "pygments_lexer": "ipython3",
   "version": "3.10.11"
  }
 },
 "nbformat": 4,
 "nbformat_minor": 2
}
