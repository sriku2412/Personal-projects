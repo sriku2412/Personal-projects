{
 "cells": [
  {
   "cell_type": "markdown",
   "metadata": {},
   "source": [
    "# Google Translation Model using BERT (Spanish to English)\n",
    "\n",
    "This guide outlines the process of building a translation model to convert Spanish sentences into English using a fine-tuned BERT model. The steps include dataset preparation, preprocessing, model fine-tuning, evaluation, and inference.\n",
    "\n",
    "## Dataset Preparation\n",
    "First, you need to gather a dataset of Spanish-English translation pairs. This dataset should consist of sentences in Spanish and their corresponding translations in English.\n",
    "\n",
    "## Preprocessing\n",
    "Sentences in both languages must be tokenized and formatted for BERT input, including handling special tokens like `[CLS]`, `[SEP]`, and `[MASK]`.\n",
    "\n",
    "```python\n",
    "from transformers import BertTokenizerFast\n",
    "tokenizer = BertTokenizerFast.from_pretrained('bert-base-multilingual-cased')\n"
   ]
  },
  {
   "cell_type": "code",
   "execution_count": 4,
   "metadata": {},
   "outputs": [
    {
     "name": "stderr",
     "output_type": "stream",
     "text": [
      "tokenizer_config.json: 100%|██████████| 44.0/44.0 [00:00<00:00, 43.0kB/s]\n",
      "c:\\Users\\srika\\AppData\\Local\\Programs\\Python\\Python311\\Lib\\site-packages\\huggingface_hub\\file_download.py:149: UserWarning: `huggingface_hub` cache-system uses symlinks by default to efficiently store duplicated files but your machine does not support them in C:\\Users\\srika\\.cache\\huggingface\\hub\\models--Helsinki-NLP--opus-mt-es-en. Caching files will still work but in a degraded version that might require more space on your disk. This warning can be disabled by setting the `HF_HUB_DISABLE_SYMLINKS_WARNING` environment variable. For more details, see https://huggingface.co/docs/huggingface_hub/how-to-cache#limitations.\n",
      "To support symlinks on Windows, you either need to activate Developer Mode or to run Python as an administrator. In order to see activate developer mode, see this article: https://docs.microsoft.com/en-us/windows/apps/get-started/enable-your-device-for-development\n",
      "  warnings.warn(message)\n",
      "source.spm: 100%|██████████| 826k/826k [00:00<00:00, 4.80MB/s]\n",
      "target.spm: 100%|██████████| 802k/802k [00:00<00:00, 2.38MB/s]\n",
      "vocab.json: 100%|██████████| 1.59M/1.59M [00:00<00:00, 6.32MB/s]\n",
      "config.json: 100%|██████████| 1.44k/1.44k [00:00<?, ?B/s]\n",
      "c:\\Users\\srika\\AppData\\Local\\Programs\\Python\\Python311\\Lib\\site-packages\\transformers\\models\\marian\\tokenization_marian.py:197: UserWarning: Recommended: pip install sacremoses.\n",
      "  warnings.warn(\"Recommended: pip install sacremoses.\")\n",
      "pytorch_model.bin: 100%|██████████| 312M/312M [00:39<00:00, 7.84MB/s] \n",
      "generation_config.json: 100%|██████████| 293/293 [00:00<00:00, 321kB/s]\n"
     ]
    },
    {
     "name": "stdout",
     "output_type": "stream",
     "text": [
      "Spanish: Hola, ¿cómo estás?\n",
      "English Translation: Hey, how are you?\n"
     ]
    }
   ],
   "source": [
    "from transformers import MarianMTModel, MarianTokenizer\n",
    "\n",
    "src_text = 'Hola, ¿cómo estás?'\n",
    "\n",
    "# Load the tokenizer\n",
    "tokenizer = MarianTokenizer.from_pretrained('Helsinki-NLP/opus-mt-es-en')\n",
    "\n",
    "# Load the model\n",
    "model = MarianMTModel.from_pretrained('Helsinki-NLP/opus-mt-es-en')\n",
    "\n",
    "# Tokenize the text\n",
    "translated = model.generate(**tokenizer(src_text, return_tensors=\"pt\", padding=True))\n",
    "\n",
    "# Decode the output\n",
    "translated_text = [tokenizer.decode(t, skip_special_tokens=True) for t in translated]\n",
    "\n",
    "print(\"Spanish:\", src_text)\n",
    "print(\"English Translation:\", translated_text[0])"
   ]
  },
  {
   "cell_type": "code",
   "execution_count": null,
   "metadata": {},
   "outputs": [],
   "source": [
    "from flask import Flask, request, render_template, session, redirect, url_for\n",
    "from transformers import MarianMTModel, MarianTokenizer\n",
    "\n",
    "app = Flask(__name__)\n",
    "app.secret_key = 'your_secret_key'  # Required to use sessions\n",
    "\n",
    "# Load tokenizer and model\n",
    "tokenizer = MarianTokenizer.from_pretrained('Helsinki-NLP/opus-mt-es-en')\n",
    "model = MarianMTModel.from_pretrained('Helsinki-NLP/opus-mt-es-en')\n",
    "\n",
    "@app.route('/', methods=['GET', 'POST'])\n",
    "def index():\n",
    "    if 'history' not in session:\n",
    "        session['history'] = []  # Initialize conversation history\n",
    "\n",
    "    if request.method == 'POST':\n",
    "        src_text = request.form['text']  # Get text from form\n",
    "        if src_text:  # Check if the text is not empty\n",
    "            translated = model.generate(**tokenizer(src_text, return_tensors=\"pt\", padding=True))\n",
    "            translated_text = [tokenizer.decode(t, skip_special_tokens=True) for t in translated][0]\n",
    "            \n",
    "            # Update history\n",
    "            session['history'].append({'spanish': src_text, 'english': translated_text})\n",
    "            session.modified = True  # To ensure the session gets saved\n",
    "\n",
    "    return render_template('index.html', history=session['history'])\n",
    "\n",
    "if __name__ == '__main__':\n",
    "    app.run(debug=True)\n"
   ]
  }
 ],
 "metadata": {
  "kernelspec": {
   "display_name": "Python 3",
   "language": "python",
   "name": "python3"
  },
  "language_info": {
   "codemirror_mode": {
    "name": "ipython",
    "version": 3
   },
   "file_extension": ".py",
   "mimetype": "text/x-python",
   "name": "python",
   "nbconvert_exporter": "python",
   "pygments_lexer": "ipython3",
   "version": "3.11.8"
  }
 },
 "nbformat": 4,
 "nbformat_minor": 2
}
